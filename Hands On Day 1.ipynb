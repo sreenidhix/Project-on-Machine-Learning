{
 "cells": [
  {
   "cell_type": "code",
   "execution_count": 1,
   "id": "7f13d55b-c585-4af8-b23a-26bdf16e568a",
   "metadata": {},
   "outputs": [],
   "source": [
    "# declare a variable\n",
    "# variables are the containers used to store any datatypes\n",
    "X=10"
   ]
  },
  {
   "cell_type": "code",
   "execution_count": 2,
   "id": "558b98d0-f2fe-4bc9-9c89-ed644f0616af",
   "metadata": {},
   "outputs": [
    {
     "name": "stdout",
     "output_type": "stream",
     "text": [
      "10\n"
     ]
    }
   ],
   "source": [
    "# print the variable\n",
    "print(X)"
   ]
  },
  {
   "cell_type": "code",
   "execution_count": 3,
   "id": "517c7d45-7791-44ba-b8cb-9a1dcdd0b462",
   "metadata": {},
   "outputs": [
    {
     "data": {
      "text/plain": [
       "int"
      ]
     },
     "execution_count": 3,
     "metadata": {},
     "output_type": "execute_result"
    }
   ],
   "source": [
    "# check the datatype of the variable\n",
    "type(X)"
   ]
  },
  {
   "cell_type": "code",
   "execution_count": 5,
   "id": "0afb0950-a677-4866-88ce-66462a9dba47",
   "metadata": {},
   "outputs": [
    {
     "name": "stdout",
     "output_type": "stream",
     "text": [
      "datatype of the variable <class 'int'>\n"
     ]
    }
   ],
   "source": [
    "# create an integer datatype\n",
    "int_1=20\n",
    "\n",
    "# show the datatype\n",
    "print('datatype of the variable',type(int_1))"
   ]
  },
  {
   "cell_type": "code",
   "execution_count": 7,
   "id": "60ef1a1d-7262-4139-a2be-7d3aa8f56275",
   "metadata": {},
   "outputs": [
    {
     "name": "stdout",
     "output_type": "stream",
     "text": [
      "datatype of the variable <class 'float'>\n"
     ]
    }
   ],
   "source": [
    "# create an float datatype\n",
    "float_1=20.38\n",
    "\n",
    "# show the datatype\n",
    "print('datatype of the variable',type(float_1))"
   ]
  },
  {
   "cell_type": "code",
   "execution_count": 21,
   "id": "a2f7d3b8-48cf-4f3c-b854-95e640492693",
   "metadata": {},
   "outputs": [
    {
     "name": "stdout",
     "output_type": "stream",
     "text": [
      "datatype of the variable <class 'str'>\n"
     ]
    }
   ],
   "source": [
    "# create an string datatype\n",
    "string_1='Gopal'\n",
    "\n",
    "#show the datatype\n",
    "print('datatype of the variable',type(string_1))\n",
    "\n"
   ]
  },
  {
   "cell_type": "code",
   "execution_count": 23,
   "id": "a7b4644a-25b0-4e1e-9150-c9302f26fb53",
   "metadata": {},
   "outputs": [
    {
     "name": "stdout",
     "output_type": "stream",
     "text": [
      "datatype of the variable <class 'list'>\n",
      "datatype of the variable <class 'list'>\n",
      "datatype of the variable <class 'list'>\n"
     ]
    }
   ],
   "source": [
    "# create an list datatype\n",
    "list_1=[10,20,30,40]\n",
    "list_2=[10.38,20.46,30.39,40.68]\n",
    "list_3=['Gopal','Nirmal','Nandhini','Pooja']\n",
    "\n",
    "#show the datatype\n",
    "print('datatype of the variable',type(list_1))\n",
    "print('datatype of the variable',type(list_2))\n",
    "print('datatype of the variable',type(list_3))\n"
   ]
  },
  {
   "cell_type": "code",
   "execution_count": 37,
   "id": "8017f3a9-7533-4e61-abfa-e5418de473d9",
   "metadata": {},
   "outputs": [
    {
     "name": "stdout",
     "output_type": "stream",
     "text": [
      "datatype of the variable <class 'tuple'>\n",
      "datatype of the variable <class 'tuple'>\n",
      "datatype of the variable <class 'tuple'>\n"
     ]
    }
   ],
   "source": [
    "# create an tuple datatype\n",
    "tuple_1=(10,20,30,40)\n",
    "tuple_2=(10.38,20.46,30.39,40.68)\n",
    "tuple_3=('Gopal','Nirmal','Nandhini','Pooja')\n",
    "\n",
    "#show the datatype\n",
    "print('datatype of the variable',type(tuple_1))\n",
    "print('datatype of the variable',type(tuple_2))\n",
    "print('datatype of the variable',type(tuple_3))\n",
    " \n"
   ]
  },
  {
   "cell_type": "code",
   "execution_count": 39,
   "id": "eddce4db-5625-4f6a-9652-bd5825a73032",
   "metadata": {},
   "outputs": [
    {
     "name": "stdout",
     "output_type": "stream",
     "text": [
      "datatype of the variable <class 'set'>\n",
      "datatype of the variable <class 'set'>\n",
      "datatype of the variable <class 'set'>\n"
     ]
    }
   ],
   "source": [
    "# create an set datatype\n",
    "set_1={10,20,30,40}\n",
    "set_2={10.38,20.46,30.39,40.68}\n",
    "set_3={'Gopal','Nirmal','Nandhini','Pooja'}\n",
    "\n",
    "#show the datatype\n",
    "print('datatype of the variable',type(set_1))\n",
    "print('datatype of the variable',type(set_2))\n",
    "print('datatype of the variable',type(set_3))"
   ]
  },
  {
   "cell_type": "code",
   "execution_count": 41,
   "id": "6c5e5742-726c-40cf-9a1e-10533a267261",
   "metadata": {},
   "outputs": [
    {
     "name": "stdout",
     "output_type": "stream",
     "text": [
      "datatype of the variable <class 'bool'>\n",
      "datatype of the variable <class 'bool'>\n"
     ]
    }
   ],
   "source": [
    "# create an boolean datatype\n",
    "boolean_1=True\n",
    "boolean_2=False\n",
    "\n",
    "#show the datatype\n",
    "print('datatype of the variable',type(boolean_1))\n",
    "print('datatype of the variable',type(boolean_2))\n",
    "\n"
   ]
  },
  {
   "cell_type": "code",
   "execution_count": 47,
   "id": "2314ff57-9d80-4f06-8677-8c619613476c",
   "metadata": {},
   "outputs": [
    {
     "name": "stdout",
     "output_type": "stream",
     "text": [
      "datatype of the variable <class 'dict'>\n"
     ]
    }
   ],
   "source": [
    "#create an dictionary datatype\n",
    "dictionary_1={'list_1':[10,20,30,40],\n",
    "              'tuple_1':(10,20,30,40),\n",
    "              'set_1':\n",
    "              {10,20,30,40}}\n",
    "\n",
    "#show the datatype\n",
    "print('datatype of the variable',type(dictionary_1))"
   ]
  },
  {
   "cell_type": "markdown",
   "id": "b46e07ab-f560-4379-8a33-38603e04c58a",
   "metadata": {},
   "source": [
    "# basic operations \n"
   ]
  },
  {
   "cell_type": "code",
   "execution_count": 50,
   "id": "086c7c7f-fe68-45a3-aab2-72d53ebac2b4",
   "metadata": {},
   "outputs": [
    {
     "name": "stdout",
     "output_type": "stream",
     "text": [
      "datatype of the variable <class 'float'>\n",
      "datatype of the variable <class 'int'>\n"
     ]
    }
   ],
   "source": [
    "# Task 1:Type casting\n",
    "float_2=45.96\n",
    "\n",
    "# show the datatype\n",
    "print('datatype of the variable',type(float_2))\n",
    "\n",
    "#typecasting\n",
    "int_2=int(float_2)\n",
    "\n",
    "#show the datatype\n",
    "print('datatype of the variable',type(int_2))\n"
   ]
  },
  {
   "cell_type": "code",
   "execution_count": 52,
   "id": "71759902-869b-4337-8f64-136cc7e73ce4",
   "metadata": {},
   "outputs": [
    {
     "name": "stdout",
     "output_type": "stream",
     "text": [
      "datatype of the variable <class 'int'>\n",
      "datatype of the variable <class 'float'>\n"
     ]
    }
   ],
   "source": [
    "# Task 1:Type casting(int to float)\n",
    "int_3=5\n",
    "\n",
    "# show the datatype\n",
    "print('datatype of the variable',type(int_3))\n",
    "\n",
    "#typecasting\n",
    "float_3=float(int_3)\n",
    "\n",
    "#show the datatype\n",
    "print('datatype of the variable',type(float_3))\n"
   ]
  },
  {
   "cell_type": "code",
   "execution_count": 54,
   "id": "08056944-be33-487d-b45d-ea07c2f9cac9",
   "metadata": {},
   "outputs": [
    {
     "name": "stdout",
     "output_type": "stream",
     "text": [
      "Rounded value are: 10.123\n"
     ]
    }
   ],
   "source": [
    "# Task 2:Use of round function\n",
    "float_4=10.1234567890\n",
    "\n",
    "#Round this value till 3 deciamal places\n",
    "rounded_value=round(float_4,3)\n",
    "\n",
    "#show the output\n",
    "print('Rounded value are:',rounded_value)"
   ]
  },
  {
   "cell_type": "markdown",
   "id": "d2b2b672-a7b2-4852-8024-41ad494552d8",
   "metadata": {},
   "source": [
    "# Arithmetic Operations on a data\n"
   ]
  },
  {
   "cell_type": "code",
   "execution_count": 1,
   "id": "7ff44ea0-9e12-49f7-a091-564cc39396a6",
   "metadata": {},
   "outputs": [
    {
     "name": "stdout",
     "output_type": "stream",
     "text": [
      "Addition of two variables: 30\n"
     ]
    }
   ],
   "source": [
    "# Addition operation\n",
    "# declare the variable\n",
    "a=10\n",
    "b=20\n",
    "\n",
    "#perform the sum\n",
    "sum_1=a+b\n",
    "\n",
    "#show the output\n",
    "print('Addition of two variables:',sum_1)"
   ]
  },
  {
   "cell_type": "code",
   "execution_count": 3,
   "id": "03d3f731-3a24-4bb7-8557-a638a9bb1a55",
   "metadata": {},
   "outputs": [
    {
     "name": "stdout",
     "output_type": "stream",
     "text": [
      "Subraction of two variables: -10\n"
     ]
    }
   ],
   "source": [
    "# Subraction operation\n",
    "#declare the variable\n",
    "a=10\n",
    "b=20\n",
    "\n",
    "#perform the sub\n",
    "sub_1=a-b\n",
    "\n",
    "#show the output\n",
    "print('Subraction of two variables:',sub_1)\n"
   ]
  },
  {
   "cell_type": "code",
   "execution_count": 5,
   "id": "902dd681-e3f2-43e8-8537-8e3465e1df2f",
   "metadata": {},
   "outputs": [
    {
     "name": "stdout",
     "output_type": "stream",
     "text": [
      "Multiplecation of two variables: 200\n"
     ]
    }
   ],
   "source": [
    "# Multiplecation operation\n",
    "#declare the variable\n",
    "a=10\n",
    "b=20\n",
    "\n",
    "#perform the mul\n",
    "mul_1=a*b\n",
    "\n",
    "#show the output\n",
    "print('Multiplecation of two variables:',mul_1)\n"
   ]
  },
  {
   "cell_type": "code",
   "execution_count": 8,
   "id": "a25b9bd7-ee79-4b88-94d3-0535bef4fe48",
   "metadata": {},
   "outputs": [
    {
     "name": "stdout",
     "output_type": "stream",
     "text": [
      "Division of two variables: 0.5\n"
     ]
    }
   ],
   "source": [
    "# Division operation\n",
    "#declare the variable\n",
    "a=10\n",
    "b=20\n",
    "\n",
    "#perform the div\n",
    "div_1=a/b\n",
    "\n",
    "#show the output\n",
    "print('Division of two variables:',div_1)\n"
   ]
  },
  {
   "cell_type": "markdown",
   "id": "cef644a5-61e8-4518-9baa-6eaf27fe1897",
   "metadata": {},
   "source": [
    "# User defined function\n",
    "\n"
   ]
  },
  {
   "cell_type": "code",
   "execution_count": 10,
   "id": "34e44b43-08a1-4c44-853a-3e749121ad91",
   "metadata": {},
   "outputs": [
    {
     "data": {
      "text/plain": [
       "30"
      ]
     },
     "execution_count": 10,
     "metadata": {},
     "output_type": "execute_result"
    }
   ],
   "source": [
    "# declare the function named as 'summation',who can perform the addition in two numbers\n",
    "def summation():\n",
    "    x=10\n",
    "    y=20\n",
    "    summation=x+y\n",
    "    return summation\n",
    "\n",
    "# call the function\n",
    "summation()"
   ]
  },
  {
   "cell_type": "code",
   "execution_count": 12,
   "id": "15b74930-0ff9-44bf-9e72-a1f57d68bf69",
   "metadata": {},
   "outputs": [
    {
     "data": {
      "text/plain": [
       "-10"
      ]
     },
     "execution_count": 12,
     "metadata": {},
     "output_type": "execute_result"
    }
   ],
   "source": [
    "# declare the function named as 'subtraction',\n",
    "# who can perform this subtraction between two variables\n",
    "def subtraction(x,y):\n",
    "    subtraction=x-y\n",
    "    return subtraction \n",
    "\n",
    "#call the function\n",
    "subtraction(10,20)"
   ]
  },
  {
   "cell_type": "code",
   "execution_count": 14,
   "id": "c2faa82d-892d-4269-8d57-71532aeaebb3",
   "metadata": {},
   "outputs": [
    {
     "name": "stdin",
     "output_type": "stream",
     "text": [
      "Give the first number: 10\n",
      "Give the second number: 20\n"
     ]
    },
    {
     "data": {
      "text/plain": [
       "200"
      ]
     },
     "execution_count": 14,
     "metadata": {},
     "output_type": "execute_result"
    }
   ],
   "source": [
    "# declare the function named as 'multiplication',\n",
    "# who can perform this multiplication between two variables\n",
    "# this time you need to take input from the user\n",
    "\n",
    "# Take the input from the user\n",
    "var_2=int(input('Give the first number:'))\n",
    "var_3=int(input('Give the second number:'))\n",
    "\n",
    "#Make the user defined function\n",
    "def multiplication (var_2,var_3):\n",
    "    mul=var_2*var_3\n",
    "    return mul\n",
    "\n",
    "#call the function\n",
    "multiplication(var_2,var_3)"
   ]
  },
  {
   "cell_type": "code",
   "execution_count": null,
   "id": "17d17951-6efc-4162-97b5-8dad18177930",
   "metadata": {},
   "outputs": [],
   "source": []
  }
 ],
 "metadata": {
  "kernelspec": {
   "display_name": "Python 3 (ipykernel)",
   "language": "python",
   "name": "python3"
  },
  "language_info": {
   "codemirror_mode": {
    "name": "ipython",
    "version": 3
   },
   "file_extension": ".py",
   "mimetype": "text/x-python",
   "name": "python",
   "nbconvert_exporter": "python",
   "pygments_lexer": "ipython3",
   "version": "3.12.4"
  }
 },
 "nbformat": 4,
 "nbformat_minor": 5
}
